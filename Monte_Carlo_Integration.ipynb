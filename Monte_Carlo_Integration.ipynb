{
 "cells": [
  {
   "cell_type": "markdown",
   "metadata": {},
   "source": [
    "**Monte Carlo integration** is a type of numeral integration using random numbers. Particularly, it is a Monte Carlo Method used for estimating areas below or above the graph of particular functions."
   ]
  },
  {
   "cell_type": "code",
   "execution_count": 1,
   "metadata": {},
   "outputs": [],
   "source": [
    "# Useful libraries when working with data distribution and visualization\n",
    "import numpy as np\n",
    "import matplotlib.pyplot as plt"
   ]
  },
  {
   "cell_type": "markdown",
   "metadata": {},
   "source": [
    "**Problem**  \n",
    "Given the function $f(x)$, assumed to have positive values on the interval $[a,b]$, we are asked to estimate the following integral:\n",
    "$$ \\mathcal{I} = \\int_a^b f(x)dx $$"
   ]
  },
  {
   "cell_type": "markdown",
   "metadata": {},
   "source": [
    "# Algorithm 1: Monte Carlo Integration\n",
    "1. Find a bound of the function $f(x)$, i.e. a value $c \\in \\mathbb{R}$ for which\n",
    "$$ 0 \\leq f(x) \\leq c , \\quad \\text{ for } x \\in [a,b]. $$\n",
    "2. Generate $n$ random points in the bounding box defined by the real values $a, b, c$ and $0$.  \n",
    "  The points can be sampled from the distribution (X, Y) defined as follows:\n",
    "  $$ U \\in {\\cal U}_{[0,1]} \\, , \\quad V \\in {\\cal U}_{[0,1]} $$\n",
    "  $$ X = a + (b-a) U \\, ,  \\quad Y = cV $$\n",
    "  $$ X \\in {\\cal U}_{[a,b]} \\, , \\quad V \\in {\\cal U}_{[0,c]} $$\n",
    "3. Denote by $N_\\mathcal{I}$ the number of points that belong to the area under the curve $f(x)$, that is the points for which\n",
    "  $$ f(X) \\leq Y. $$\n",
    "4. The estimator $\\^{\\mathcal{I}}$ of the integral $\\mathcal{I}$ can then be computed using the formula:\n",
    "  $$ \\^{\\mathcal{I}} = c (b - a) \\frac{N_\\mathcal{I}}{n}. $$"
   ]
  },
  {
   "cell_type": "code",
   "execution_count": 2,
   "metadata": {},
   "outputs": [],
   "source": [
    "# Python implementation for Algorithm 1\n",
    "\n",
    "def monte_carlo_integration_1(n, a, b, c, f):\n",
    "  '''\n",
    "  Returns the estimate for the integral using Algorithm 1 for Monte Carlo Integration\n",
    "  Input:\n",
    "    n - sample size \n",
    "    a, b, c - values for the bounding box\n",
    "    f - function for the integral to be computed\n",
    "  Output:\n",
    "    I - estimated integral\n",
    "  '''\n",
    "  # generate two uniform random variables\n",
    "  U = np.random.uniform(size=n)\n",
    "  V = np.random.uniform(size=n)\n",
    "\n",
    "  # transform the variables into coordinates in the bounding box\n",
    "  X = a + (b - a) * U\n",
    "  Y = c * V\n",
    "\n",
    "  # apply function to elements of X\n",
    "  f_X = np.array([f(x) for x in X])\n",
    "\n",
    "  # count the number of points under the curve\n",
    "  A =  (Y <= f_X).astype(int)\n",
    "  N = sum(A)\n",
    "  \n",
    "  # compute integral estimate\n",
    "  I = c * (b - a) * N / n\n",
    "  return I"
   ]
  },
  {
   "cell_type": "markdown",
   "metadata": {},
   "source": [
    "## Example 1: Integrating the sine function\n",
    "Using the algorithm described above, we are going to estimate the following integral:\n",
    "$$ I = \\int_0^\\pi \\sin x \\, dx. $$\n",
    "The theoretical result is\n",
    "$$ I = \\int_0^\\pi \\sin x \\, dx = - \\cos x \\Big|_0^\\pi = - \\cos(\\pi) + \\cos(0) = -(-1) + 1 = 2. $$\n",
    "The bounds of the function $f(x) = \\sin x$ on the given interval are\n",
    "$$ 0 \\leq f(x) \\leq 1 , \\text{ for } x \\in [0, \\pi]. $$\n",
    "Now let us analyze the experimental value of the integral."
   ]
  },
  {
   "cell_type": "code",
   "execution_count": 3,
   "metadata": {},
   "outputs": [
    {
     "name": "stdout",
     "output_type": "stream",
     "text": [
      "Results after 100 runs of the integration algorithm, each with a sample size of 100000:\n",
      "Mean of the results: 1.9992231709465704\n",
      "Standard deviation: 0.0037965165864429777\n"
     ]
    },
    {
     "data": {
      "image/png": "[encoded data removed]",
      "text/plain": [
       "<Figure size 640x480 with 1 Axes>"
      ]
     },
     "metadata": {},
     "output_type": "display_data"
    }
   ],
   "source": [
    "# Estimating sin(x) on the interval [0, pi] using Algorithm 1 for Monte Carlo Integration\n",
    "sample_size = 100000\n",
    "\n",
    "# values for the bounding box\n",
    "a, b, c = 0, np.pi, 1\n",
    "\n",
    "# function to be integrated\n",
    "def f(x):\n",
    "  return np.sin(x)\n",
    "\n",
    "# number of computations for the integral\n",
    "runs_number = 100\n",
    "# array of experimental results\n",
    "results = []\n",
    "\n",
    "# running the algorithm multiple times and analysing the results\n",
    "for step in range(runs_number):\n",
    "  I = monte_carlo_integration_1(sample_size, a, b, c, f)\n",
    "  results.append(I)\n",
    "\n",
    "# print mean and standard deviation of results\n",
    "print(f\"Results after {runs_number} runs of the integration algorithm, each with a sample size of {sample_size}:\")\n",
    "print(f\"Mean of the results: {np.mean(results)}\")\n",
    "print(f\"Standard deviation: {np.std(results)}\")\n",
    "\n",
    "# histogram of results\n",
    "plt.hist(results, range=[1.98, 2.02], bins=21, edgecolor='black')\n",
    "plt.title('Histogram of simulated integral values')\n",
    "plt.ylabel('Frequency')\n",
    "plt.xlabel('$I$')\n",
    "plt.grid()\n",
    "plt.show()\n"
   ]
  },
  {
   "cell_type": "markdown",
   "metadata": {},
   "source": [
    "# Algorithm 2: Improved Monte Carlo Integration\n",
    "1. Choose any continuous distribution with given density $g(x)$ on the interval [a, b].\n",
    "2. Generate a large number of variables $X_1, ..., X_n$ belonging to the chosen distribution.\n",
    "3. Compute $\\hat{\\mathcal{I}}$ as the average of $f(X_i)/g(X_i)$\n",
    "  $$ \\hat{\\mathcal{I}} = \\frac{1}{n} \\sum_{i=1}^n \\frac{ f(X_i) }{ g(X_i) } $$\n",
    "\n",
    "In particular, by choosing the uniform distribution as a starting distribution,\n",
    "$$ g(x) = \\frac{1}{b - a} $$\n",
    "and sampling n points $ U_1, ..., U_n $ from this distribution, we get the result\n",
    "$$ \\hat{\\mathcal{I}} = \\frac{1}{n} \\sum_{i=1}^n (b - a) f(X_i) $$"
   ]
  },
  {
   "cell_type": "code",
   "execution_count": 4,
   "metadata": {},
   "outputs": [],
   "source": [
    "# Python implementation for Algorithm 2\n",
    "\n",
    "def monte_carlo_integration_2(n, X, f, g):\n",
    "  '''\n",
    "  Returns the estimate for the integral using Algorithm 2 for Monte Carlo Integration\n",
    "  Input:\n",
    "    n - number of samples from the chosen distribution\n",
    "    X - array of samples\n",
    "    f - function to be integrated\n",
    "    g - chosen density function\n",
    "  '''\n",
    "  # compute the two functions on the given samples\n",
    "  f_X = np.array([f(x) for x in X])\n",
    "  g_X = np.array([g(x) for x in X])\n",
    "\n",
    "  # calculate f(X)/g(X) on the samples\n",
    "  div_X = f_X / g_X\n",
    "\n",
    "  #return the mean\n",
    "  return np.mean(div_X)\n",
    "  "
   ]
  },
  {
   "cell_type": "markdown",
   "metadata": {},
   "source": [
    "## Example 2: Integrating the sine function\n",
    "We will now approach the integral defined above using the improved Monte Carlo Integration algorithm and compare the results.\n",
    "$$ I = \\int_0^\\pi \\sin x \\, dx $$\n",
    "We choose to sample points from the Uniform distribution."
   ]
  },
  {
   "cell_type": "code",
   "execution_count": 5,
   "metadata": {},
   "outputs": [
    {
     "name": "stdout",
     "output_type": "stream",
     "text": [
      "Results after 100 runs of the integration algorithm, each with a sample size of 100000:\n",
      "Mean of the results: 2.0002510676597685\n",
      "Standard deviation: 0.002600938333787489\n"
     ]
    },
    {
     "data": {
      "image/png": "[encoded data removed]",
      "text/plain": [
       "<Figure size 640x480 with 1 Axes>"
      ]
     },
     "metadata": {},
     "output_type": "display_data"
    }
   ],
   "source": [
    "# Estimating sin(x) on the interval [0, pi] using Algorithm 2 for Monte Carlo Integration\n",
    "sample_size = 100000\n",
    "\n",
    "# values for the bounding box\n",
    "a, b, c = 0, np.pi, 1\n",
    "\n",
    "# function to be integrated\n",
    "def f(x):\n",
    "  return np.sin(x)\n",
    "\n",
    "# density function of uniform distribution\n",
    "def g(x):\n",
    "  return 1 / (b - a)\n",
    "\n",
    "# number of computations for the integral\n",
    "runs_number = 100\n",
    "# array of experimental results\n",
    "results = []\n",
    "\n",
    "# running the algorithm multiple times and analysing the results\n",
    "for step in range(runs_number):\n",
    "  # generating uniformly distributed samples on interval [a,b]\n",
    "  X = np.random.uniform(a, b, size=sample_size)\n",
    "  # generating the integral estimate\n",
    "  I = monte_carlo_integration_2(sample_size, X, f, g)\n",
    "  results.append(I)\n",
    "\n",
    "# print mean and standard deviation of results\n",
    "print(f\"Results after {runs_number} runs of the integration algorithm, each with a sample size of {sample_size}:\")\n",
    "print(f\"Mean of the results: {np.mean(results)}\")\n",
    "print(f\"Standard deviation: {np.std(results)}\")\n",
    "\n",
    "# histogram of results\n",
    "plt.hist(results, range=[1.98, 2.02], bins=21, edgecolor='black')\n",
    "plt.title('Histogram of simulated integral values')\n",
    "plt.ylabel('Frequency')\n",
    "plt.xlabel('$I$')\n",
    "plt.grid()\n",
    "plt.show()\n",
    "\n",
    "  "
   ]
  },
  {
   "cell_type": "markdown",
   "metadata": {},
   "source": [
    "By comparing the results of the two algorithms on the same problem, we can see that Algorithm 2 has a better performance, in terms of:\n",
    "- accuracy (closer to real integral value)\n",
    "- consistency of results (lower standard deviation)."
   ]
  }
 ],
 "metadata": {
  "kernelspec": {
   "display_name": "Python 3 (ipykernel)",
   "language": "python",
   "name": "python3"
  },
  "language_info": {
   "codemirror_mode": {
    "name": "ipython",
    "version": 3
   },
   "file_extension": ".py",
   "mimetype": "text/x-python",
   "name": "python",
   "nbconvert_exporter": "python",
   "pygments_lexer": "ipython3",
   "version": "3.12.7"
  },
  "vscode": {
   "interpreter": {
    "hash": "cf54039b386a62afafc8ac71b631c4eb0643911a9a8c4e41b2f9ba7d3feb91f1"
   }
  }
 },
 "nbformat": 4,
 "nbformat_minor": 4
}
